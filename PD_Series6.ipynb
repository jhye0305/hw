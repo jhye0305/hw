{
  "nbformat": 4,
  "nbformat_minor": 0,
  "metadata": {
    "colab": {
      "provenance": [],
      "authorship_tag": "ABX9TyO65XgYbpbx16F649MyEcfb",
      "include_colab_link": true
    },
    "kernelspec": {
      "name": "python3",
      "display_name": "Python 3"
    },
    "language_info": {
      "name": "python"
    }
  },
  "cells": [
    {
      "cell_type": "markdown",
      "metadata": {
        "id": "view-in-github",
        "colab_type": "text"
      },
      "source": [
        "<a href=\"https://colab.research.google.com/github/jhye0305/tasks/blob/main/PD_Series6.ipynb\" target=\"_parent\"><img src=\"https://colab.research.google.com/assets/colab-badge.svg\" alt=\"Open In Colab\"/></a>"
      ]
    },
    {
      "cell_type": "code",
      "execution_count": 2,
      "metadata": {
        "colab": {
          "base_uri": "https://localhost:8080/"
        },
        "id": "i4MEa43W9pYJ",
        "outputId": "4d83179c-f9b1-45e4-bfa6-a24c5fe7ac8a"
      },
      "outputs": [
        {
          "output_type": "execute_result",
          "data": {
            "text/plain": [
              "month\n",
              "1     1811\n",
              "2      985\n",
              "3     1500\n",
              "4      146\n",
              "12     381\n",
              "Name: value, dtype: int64"
            ]
          },
          "metadata": {},
          "execution_count": 2
        }
      ],
      "source": [
        "import numpy as np\n",
        "import pandas as pd\n",
        "\n",
        "np.random.seed(0)\n",
        "df = pd.DataFrame({\n",
        "    \"date\": pd.date_range(\"2020-12-25\", periods=100, freq=\"D\"),\n",
        "    \"value\": np.random.randint(100, size=(100,))\n",
        "})\n",
        "df.set_index('date')\n",
        "df['month']=df['date'].dt.month\n",
        "df.groupby('month')['value'].sum()"
      ]
    }
  ]
}