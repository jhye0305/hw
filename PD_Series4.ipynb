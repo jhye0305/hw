{
  "nbformat": 4,
  "nbformat_minor": 0,
  "metadata": {
    "colab": {
      "provenance": [],
      "authorship_tag": "ABX9TyNhtJy8fNrYNTlpWj31tcnl",
      "include_colab_link": true
    },
    "kernelspec": {
      "name": "python3",
      "display_name": "Python 3"
    },
    "language_info": {
      "name": "python"
    }
  },
  "cells": [
    {
      "cell_type": "markdown",
      "metadata": {
        "id": "view-in-github",
        "colab_type": "text"
      },
      "source": [
        "<a href=\"https://colab.research.google.com/github/jhye0305/tasks/blob/main/PD_Series4.ipynb\" target=\"_parent\"><img src=\"https://colab.research.google.com/assets/colab-badge.svg\" alt=\"Open In Colab\"/></a>"
      ]
    },
    {
      "cell_type": "code",
      "source": [
        "import pandas as pd\n",
        "\n",
        "data = {'국어': [90, 80, 85, 88, 92],\n",
        "        '영어': [85, 88, 90, 75, 95],\n",
        "        '수학': [75, 92, 88, 79, 96]}\n",
        "\n",
        "df_score1 = pd.DataFrame(data)\n",
        "\n",
        "student_names = ['Student1', 'Student2', 'Student3', 'Student4', 'Student5']\n",
        "df_score1.index = student_names\n",
        "\n",
        "\n",
        "df_score2 = df_score1.reset_index()\n",
        "print(df_score2)\n",
        "\n",
        "\n",
        "df_score2.set_index('index', inplace=True)\n",
        "print(df_score2)\n"
      ],
      "metadata": {
        "colab": {
          "base_uri": "https://localhost:8080/"
        },
        "id": "tAJN8czIMRbU",
        "outputId": "bfad0600-be40-4f09-a3bf-167a4e117719"
      },
      "execution_count": null,
      "outputs": [
        {
          "output_type": "stream",
          "name": "stdout",
          "text": [
            "      index  국어  영어  수학\n",
            "0  Student1  90  85  75\n",
            "1  Student2  80  88  92\n",
            "2  Student3  85  90  88\n",
            "3  Student4  88  75  79\n",
            "4  Student5  92  95  96\n",
            "          국어  영어  수학\n",
            "index               \n",
            "Student1  90  85  75\n",
            "Student2  80  88  92\n",
            "Student3  85  90  88\n",
            "Student4  88  75  79\n",
            "Student5  92  95  96\n"
          ]
        }
      ]
    },
    {
      "cell_type": "code",
      "source": [
        "import pandas as pd\n",
        "import numpy as np\n",
        "np.random.seed(0)\n",
        "grade1 = np.random.randint(0,101,(5,3))\n",
        "class1 = np.random.randint(1,4, (5,1))\n",
        "number1 = np.random.randint(1,31, (5,1))\n",
        "df_score3 = pd.DataFrame(np.hstack([grade1,class1,number1]), columns=[\"국어\",\"영어\",\"수학\",\"반\",\"번호\"])\n",
        "print(df_score3)"
      ],
      "metadata": {
        "colab": {
          "base_uri": "https://localhost:8080/"
        },
        "id": "mV3VALtWMh_L",
        "outputId": "e17a79e3-9818-4ccb-c686-f1e76981a572"
      },
      "execution_count": null,
      "outputs": [
        {
          "output_type": "stream",
          "name": "stdout",
          "text": [
            "   국어  영어  수학  반  번호\n",
            "0  44  47  64  2   6\n",
            "1  67  67   9  3  26\n",
            "2  83  21  36  3  14\n",
            "3  87  70  88  1   9\n",
            "4  88  12  58  2  10\n"
          ]
        }
      ]
    },
    {
      "cell_type": "code",
      "source": [
        "df_score4 = df_score3.set_index(['반','번호']).sort_index(level=0)\n",
        "print(df_score4)"
      ],
      "metadata": {
        "colab": {
          "base_uri": "https://localhost:8080/"
        },
        "id": "tHMgb2FLOK90",
        "outputId": "d38424b4-5d64-4f5d-aff5-d517042dcf0b"
      },
      "execution_count": null,
      "outputs": [
        {
          "output_type": "stream",
          "name": "stdout",
          "text": [
            "      국어  영어  수학\n",
            "반 번호            \n",
            "1 9   87  70  88\n",
            "2 6   44  47  64\n",
            "  10  88  12  58\n",
            "3 14  83  21  36\n",
            "  26  67  67   9\n"
          ]
        }
      ]
    },
    {
      "cell_type": "code",
      "source": [
        "df_score4['평균']=df_score4.apply(lambda x:np.round((int(x['국어'])+int(x['영어'])+int(x['수학']))/3),axis=1)\n",
        "print(df_score4)"
      ],
      "metadata": {
        "colab": {
          "base_uri": "https://localhost:8080/"
        },
        "id": "GBBUkbViOriD",
        "outputId": "b0b58067-88dd-4eca-a81c-3ebef474e83e"
      },
      "execution_count": null,
      "outputs": [
        {
          "output_type": "stream",
          "name": "stdout",
          "text": [
            "      국어  영어  수학    평균\n",
            "반 번호                  \n",
            "1 9   87  70  88  82.0\n",
            "2 6   44  47  64  52.0\n",
            "  10  88  12  58  53.0\n",
            "3 14  83  21  36  47.0\n",
            "  26  67  67   9  48.0\n"
          ]
        }
      ]
    },
    {
      "cell_type": "code",
      "source": [
        "df_score5 = df_score3.set_index(['반','번호']).unstack('반')\n",
        "df_score5.columns.names = ['과목', '반']\n",
        "\n",
        "df_score5.loc[(\"평균점수\"), :] = df_score5.mean()\n",
        "print(df_score5)"
      ],
      "metadata": {
        "colab": {
          "base_uri": "https://localhost:8080/"
        },
        "id": "rM12VhHhOsaL",
        "outputId": "8162e4c0-b200-4847-c100-41902faea2d1"
      },
      "execution_count": null,
      "outputs": [
        {
          "output_type": "stream",
          "name": "stdout",
          "text": [
            "과목      국어                영어                수학            \n",
            "반        1     2     3     1     2     3     1     2     3\n",
            "번호                                                        \n",
            "6      NaN  44.0   NaN   NaN  47.0   NaN   NaN  64.0   NaN\n",
            "9     87.0   NaN   NaN  70.0   NaN   NaN  88.0   NaN   NaN\n",
            "10     NaN  88.0   NaN   NaN  12.0   NaN   NaN  58.0   NaN\n",
            "14     NaN   NaN  83.0   NaN   NaN  21.0   NaN   NaN  36.0\n",
            "26     NaN   NaN  67.0   NaN   NaN  67.0   NaN   NaN   9.0\n",
            "평균점수  87.0  66.0  75.0  70.0  29.5  44.0  88.0  61.0  22.5\n"
          ]
        }
      ]
    }
  ]
}